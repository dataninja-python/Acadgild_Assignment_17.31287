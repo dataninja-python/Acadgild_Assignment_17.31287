{
 "cells": [
  {
   "cell_type": "markdown",
   "metadata": {},
   "source": [
    "Problem Statement 1:\n",
    "\n",
    "Two balls are drawn at random in succession without replacement from an urn containing 4 red balls and 6 black balls.\n",
    "\n",
    "Find the probabilities of all the possible outcomes."
   ]
  },
  {
   "cell_type": "code",
   "execution_count": 1,
   "metadata": {},
   "outputs": [],
   "source": [
    "red_balls = 4\n",
    "black_balls = 6\n",
    "total_balls = red_balls + black_balls"
   ]
  },
  {
   "cell_type": "code",
   "execution_count": 2,
   "metadata": {},
   "outputs": [],
   "source": [
    "# probability of all possible outcomes\n",
    "p_both_red = (red_balls / total_balls) * ((red_balls - 1) / (total_balls -1))\n",
    "p_both_black = (black_balls / total_balls) * ((black_balls - 1) / (total_balls -1))\n",
    "p_one_of_each = ((red_balls / total_balls) * ((black_balls) / (total_balls -1))) +\\\n",
    "((black_balls / total_balls) * ((red_balls) / (total_balls -1)))"
   ]
  },
  {
   "cell_type": "code",
   "execution_count": 3,
   "metadata": {},
   "outputs": [
    {
     "name": "stdout",
     "output_type": "stream",
     "text": [
      "The probability of picking both red 13.33%\n",
      "The probability of picking both black 33.33%\n",
      "The probability of picking one red and one black 53.33%\n"
     ]
    }
   ],
   "source": [
    "print('The probability of picking both red {0:,.2f}%'.format(p_both_red * 100))\n",
    "print('The probability of picking both black {0:,.2f}%'.format(p_both_black * 100))\n",
    "print('The probability of picking one red and one black {0:,.2f}%'.format(p_one_of_each * 100))"
   ]
  }
 ],
 "metadata": {
  "kernelspec": {
   "display_name": "Python 3",
   "language": "python",
   "name": "python3"
  },
  "language_info": {
   "codemirror_mode": {
    "name": "ipython",
    "version": 3
   },
   "file_extension": ".py",
   "mimetype": "text/x-python",
   "name": "python",
   "nbconvert_exporter": "python",
   "pygments_lexer": "ipython3",
   "version": "3.6.6"
  }
 },
 "nbformat": 4,
 "nbformat_minor": 2
}
